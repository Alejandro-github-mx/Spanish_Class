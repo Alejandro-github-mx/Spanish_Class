{
 "cells": [
  {
   "cell_type": "markdown",
   "id": "275a12d6",
   "metadata": {},
   "source": [
    "# Packages"
   ]
  },
  {
   "cell_type": "code",
   "execution_count": 11,
   "id": "6d7a8fef",
   "metadata": {},
   "outputs": [],
   "source": [
    "import ipywidgets as widgets\n",
    "from IPython.display import display, clear_output\n",
    "import time\n",
    "from IPython.display import display, clear_output"
   ]
  },
  {
   "cell_type": "markdown",
   "id": "68688d83",
   "metadata": {},
   "source": [
    "# Ejemplo"
   ]
  },
  {
   "cell_type": "code",
   "execution_count": null,
   "id": "d2adc56c",
   "metadata": {},
   "outputs": [
    {
     "data": {
      "application/vnd.jupyter.widget-view+json": {
       "model_id": "7501f5a1ee6343a699bb611d03e67d82",
       "version_major": 2,
       "version_minor": 0
      },
      "text/plain": [
       "HTML(value='<h3>¡Juego terminado! Puntaje: 3 de 3</h3>')"
      ]
     },
     "metadata": {},
     "output_type": "display_data"
    }
   ],
   "source": [
    "# Lista de preguntas\n",
    "questions = [\n",
    "    {\"q\": \"Capital de Francia\", \"options\": [\"París\", \"Roma\", \"Madrid\"], \"a\": \"París\"},\n",
    "    {\"q\": \"5 + 7\", \"options\": [\"10\", \"11\", \"12\"], \"a\": \"12\"},\n",
    "    {\"q\": \"Color del cielo en un día claro\", \"options\": [\"Azul\", \"Verde\", \"Rojo\"], \"a\": \"Azul\"},\n",
    "]\n",
    "\n",
    "score = 0\n",
    "index = 0\n",
    "\n",
    "def show_question():\n",
    "    global index, score\n",
    "    clear_output(wait=True)\n",
    "    \n",
    "    if index < len(questions):\n",
    "        q = questions[index]\n",
    "        question_label = widgets.HTML(f\"<b>{q['q']}</b>\")\n",
    "        buttons = [widgets.Button(description=opt) for opt in q[\"options\"]]\n",
    "\n",
    "        def on_click(b):\n",
    "            global index, score\n",
    "            if b.description == q[\"a\"]:\n",
    "                score += 1\n",
    "            index += 1\n",
    "            show_question()\n",
    "\n",
    "        display(question_label)\n",
    "        for b in buttons:\n",
    "            b.on_click(on_click)\n",
    "            display(b)\n",
    "    else:\n",
    "        display(widgets.HTML(f\"<h3>¡Juego terminado! Puntaje: {score} de {len(questions)}</h3>\"))\n",
    "\n",
    "show_question()\n"
   ]
  },
  {
   "cell_type": "markdown",
   "id": "4b7e9e33",
   "metadata": {},
   "source": [
    "# Unidad 6. Día a Día"
   ]
  },
  {
   "cell_type": "code",
   "execution_count": null,
   "id": "03cce80f",
   "metadata": {},
   "outputs": [
    {
     "data": {
      "application/vnd.jupyter.widget-view+json": {
       "model_id": "a0eca7939cbe403282ca47503078be46",
       "version_major": 2,
       "version_minor": 0
      },
      "text/plain": [
       "HTML(value='<b>¿Qué día de la semana es después del martes?</b>')"
      ]
     },
     "metadata": {},
     "output_type": "display_data"
    },
    {
     "data": {
      "application/vnd.jupyter.widget-view+json": {
       "model_id": "9eb30985013942acb5c6b5bafac0e143",
       "version_major": 2,
       "version_minor": 0
      },
      "text/plain": [
       "Button(description='Lunes', style=ButtonStyle())"
      ]
     },
     "metadata": {},
     "output_type": "display_data"
    },
    {
     "data": {
      "application/vnd.jupyter.widget-view+json": {
       "model_id": "4ad12a93da4c4c399ae9d3b3af776f3e",
       "version_major": 2,
       "version_minor": 0
      },
      "text/plain": [
       "Button(description='Miércoles', style=ButtonStyle())"
      ]
     },
     "metadata": {},
     "output_type": "display_data"
    },
    {
     "data": {
      "application/vnd.jupyter.widget-view+json": {
       "model_id": "4cf1bc8c07bf4a3e92d27e74d6bf022c",
       "version_major": 2,
       "version_minor": 0
      },
      "text/plain": [
       "Button(description='Viernes', style=ButtonStyle())"
      ]
     },
     "metadata": {},
     "output_type": "display_data"
    }
   ],
   "source": [
    "# Lista de preguntas\n",
    "questions = [\n",
    "    {\"q\": \"¿Qué haces por la mañana?\", \"options\": [\"Desayuno\", \"Ceno\", \"Me acuesto\"], \"a\": \"Desayuno\"},\n",
    "    {\"q\": \"¿Con qué frecuencia estudias español (pista: similar a 'sometimes' en inglés?\", \"options\": [\"Siempre\", \"Nunca\", \"A veces\"], \"a\": \"A veces\"},\n",
    "    {\"q\": \"¿Qué día de la semana es después del martes?\", \"options\": [\"Lunes\", \"Miércoles\", \"Viernes\"], \"a\": \"Miércoles\"},\n",
    "    {\"q\": \"¿Qué parte del día es 'la tarde'?\", \"options\": [\"De 1 p.m. a 8 p.m.\", \"De 6 a.m. a 12 p.m.\", \"De 8 p.m. a 12 a.m.\"], \"a\": \"De 1 p.m. a 8 p.m.\"},\n",
    "    {\"q\": \"¿Cuál es la forma correcta del verbo 'ir' en 'yo ___ al trabajo'?\", \"options\": [\"voy\", \"va\", \"vas\"], \"a\": \"voy\"},\n",
    "    {\"q\": \"Yo estudio por la noche. ¿Y tú?\", \"options\": [\"Yo también\", \"Yo sí\", \"Yo no\"], \"a\": \"Yo también\"},\n",
    "    {\"q\": \"Completa: Primero me levanto, ______ desayuno, y luego voy al trabajo.\", \"options\": [\"después\", \"también\", \"siempre\"], \"a\": \"después\"},\n",
    "    {\"q\": \"¿Qué verbo es irregular?\", \"options\": [\"ir\", \"vivir\", \"comer\"], \"a\": \"ir\"},\n",
    "    {\"q\": \"¿Qué haces normalmente por la noche?\", \"options\": [\"Me ducho\", \"Desayuno\", \"Voy al trabajo\"], \"a\": \"Me ducho\"},\n",
    "    {\"q\": \"¿Con qué frecuencia haces ejercicio?\", \"options\": [\"Nunca\", \"Cada lunes\", \"Casi siempre\"], \"a\": \"Casi siempre\"},\n",
    "    {\"q\": \"¿Cuál es el presente del verbo 'tener' en 'yo ___'?\", \"options\": [\"tengo\", \"tiene\", \"tenes\"], \"a\": \"tengo\"},\n",
    "    {\"q\": \"¿Qué día viene antes del viernes?\", \"options\": [\"Jueves\", \"Miércoles\", \"Sábado\"], \"a\": \"Jueves\"},\n",
    "    {\"q\": \"¿Cuál es una parte del día?\", \"options\": [\"La semana\", \"La tarde\", \"El año\"], \"a\": \"La tarde\"},\n",
    "    {\"q\": \"Yo no estudio los domingos. ¿Y tú?\", \"options\": [\"Yo tampoco\", \"Yo sí\", \"Yo también\"], \"a\": \"Yo tampoco\"},\n",
    "    {\"q\": \"¿Qué actividad es típica en la mañana?\", \"options\": [\"Despertarse\", \"Dormir\", \"Cenar\"], \"a\": \"Despertarse\"},\n",
    "    {\"q\": \"Completa: Me levanto, me ducho y ______ desayuno.\", \"options\": [\"luego\", \"nunca\", \"también\"], \"a\": \"luego\"},\n",
    "    {\"q\": \"¿Qué verbo es irregular en presente?\", \"options\": [\"ser\", \"leer\", \"beber\"], \"a\": \"ser\"},\n",
    "    {\"q\": \"¿Cuál es la hora adecuada para decir 'Buenas noches'?\", \"options\": [\"9 p.m.\", \"11 a.m.\", \"3 p.m.\"], \"a\": \"9 p.m.\"},\n",
    "    {\"q\": \"¿Qué día de la semana es Wednesday en el calendario español?\", \"options\": [\"Miércoles\", \"Domingo\", \"Sábado\"], \"a\": \"Miércoles\"},\n",
    "    {\"q\": \"¿Qué parte del día corresponde a 'la mañana'?\", \"options\": [\"De 6 a.m. a 12 p.m.\", \"De 1 p.m. a 7 p.m.\", \"De 8 p.m. a 12 a.m.\"], \"a\": \"De 6 a.m. a 12 p.m.\"}\n",
    "]\n",
    "\n",
    "# Variables de estado\n",
    "score = 0\n",
    "index = 0\n",
    "\n",
    "# Función principal del juego\n",
    "def show_question():\n",
    "    global index, score\n",
    "    clear_output(wait=True)\n",
    "\n",
    "    if index < len(questions):\n",
    "        q = questions[index]\n",
    "        question_label = widgets.HTML(f\"<b>{q['q']}</b>\")\n",
    "        feedback_label = widgets.HTML(\"\")\n",
    "        buttons = [widgets.Button(description=opt) for opt in q[\"options\"]]\n",
    "\n",
    "        def on_click(b):\n",
    "            global score\n",
    "            is_correct = b.description == q[\"a\"]\n",
    "            if is_correct:\n",
    "                feedback_label.value = \"<span style='color:green;'>¡Correcto!</span>\"\n",
    "                score += 1\n",
    "            else:\n",
    "                feedback_label.value = f\"<span style='color:red;'>Incorrecto. La respuesta correcta era: {q['a']}.</span>\"\n",
    "\n",
    "            for btn in buttons:\n",
    "                btn.disabled = True\n",
    "\n",
    "            display(feedback_label)\n",
    "\n",
    "            def next_q(_):\n",
    "                global index\n",
    "                index += 1\n",
    "                show_question()\n",
    "\n",
    "            next_button = widgets.Button(description=\"Siguiente\")\n",
    "            next_button.on_click(next_q)\n",
    "            display(next_button)\n",
    "\n",
    "        display(question_label)\n",
    "        for b in buttons:\n",
    "            b.on_click(on_click)\n",
    "            display(b)\n",
    "\n",
    "    else:\n",
    "        display(widgets.HTML(f\"<h3>¡Juego terminado! Puntaje: {score} de {len(questions)}</h3>\"))\n",
    "        restart_button = widgets.Button(description=\"Reiniciar juego\")\n",
    "        \n",
    "        def restart_game(b):\n",
    "            global index, score\n",
    "            index = 0\n",
    "            score = 0\n",
    "            show_question()\n",
    "        \n",
    "        restart_button.on_click(restart_game)\n",
    "        display(restart_button)\n",
    "\n",
    "# Iniciar el juego\n",
    "show_question()\n"
   ]
  }
 ],
 "metadata": {
  "kernelspec": {
   "display_name": "jupyter-games-env",
   "language": "python",
   "name": "jupyter-games-env"
  },
  "language_info": {
   "codemirror_mode": {
    "name": "ipython",
    "version": 3
   },
   "file_extension": ".py",
   "mimetype": "text/x-python",
   "name": "python",
   "nbconvert_exporter": "python",
   "pygments_lexer": "ipython3",
   "version": "3.12.0"
  }
 },
 "nbformat": 4,
 "nbformat_minor": 5
}
