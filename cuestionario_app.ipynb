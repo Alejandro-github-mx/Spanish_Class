{
 "cells": [
  {
   "cell_type": "code",
   "execution_count": 2,
   "id": "73fce25c",
   "metadata": {},
   "outputs": [
    {
     "name": "stderr",
     "output_type": "stream",
     "text": [
      "2025-06-03 18:13:16.926 Thread 'MainThread': missing ScriptRunContext! This warning can be ignored when running in bare mode.\n",
      "2025-06-03 18:13:16.928 Thread 'MainThread': missing ScriptRunContext! This warning can be ignored when running in bare mode.\n",
      "2025-06-03 18:13:16.930 Thread 'MainThread': missing ScriptRunContext! This warning can be ignored when running in bare mode.\n",
      "2025-06-03 18:13:16.930 Thread 'MainThread': missing ScriptRunContext! This warning can be ignored when running in bare mode.\n",
      "2025-06-03 18:13:16.932 Thread 'MainThread': missing ScriptRunContext! This warning can be ignored when running in bare mode.\n",
      "2025-06-03 18:13:16.933 Thread 'MainThread': missing ScriptRunContext! This warning can be ignored when running in bare mode.\n",
      "2025-06-03 18:13:16.933 Thread 'MainThread': missing ScriptRunContext! This warning can be ignored when running in bare mode.\n",
      "2025-06-03 18:13:16.933 Thread 'MainThread': missing ScriptRunContext! This warning can be ignored when running in bare mode.\n",
      "2025-06-03 18:13:16.935 Thread 'MainThread': missing ScriptRunContext! This warning can be ignored when running in bare mode.\n",
      "2025-06-03 18:13:16.936 Thread 'MainThread': missing ScriptRunContext! This warning can be ignored when running in bare mode.\n",
      "2025-06-03 18:13:16.936 Thread 'MainThread': missing ScriptRunContext! This warning can be ignored when running in bare mode.\n",
      "2025-06-03 18:13:16.936 Thread 'MainThread': missing ScriptRunContext! This warning can be ignored when running in bare mode.\n",
      "2025-06-03 18:13:16.938 Thread 'MainThread': missing ScriptRunContext! This warning can be ignored when running in bare mode.\n",
      "2025-06-03 18:13:16.938 Thread 'MainThread': missing ScriptRunContext! This warning can be ignored when running in bare mode.\n",
      "2025-06-03 18:13:16.938 Thread 'MainThread': missing ScriptRunContext! This warning can be ignored when running in bare mode.\n",
      "2025-06-03 18:13:16.940 Thread 'MainThread': missing ScriptRunContext! This warning can be ignored when running in bare mode.\n",
      "2025-06-03 18:13:16.940 Thread 'MainThread': missing ScriptRunContext! This warning can be ignored when running in bare mode.\n",
      "2025-06-03 18:13:16.942 Thread 'MainThread': missing ScriptRunContext! This warning can be ignored when running in bare mode.\n",
      "2025-06-03 18:13:16.942 Thread 'MainThread': missing ScriptRunContext! This warning can be ignored when running in bare mode.\n",
      "2025-06-03 18:13:16.942 Thread 'MainThread': missing ScriptRunContext! This warning can be ignored when running in bare mode.\n",
      "2025-06-03 18:13:16.944 Thread 'MainThread': missing ScriptRunContext! This warning can be ignored when running in bare mode.\n",
      "2025-06-03 18:13:16.944 Thread 'MainThread': missing ScriptRunContext! This warning can be ignored when running in bare mode.\n",
      "2025-06-03 18:13:16.944 Thread 'MainThread': missing ScriptRunContext! This warning can be ignored when running in bare mode.\n",
      "2025-06-03 18:13:16.944 Thread 'MainThread': missing ScriptRunContext! This warning can be ignored when running in bare mode.\n",
      "2025-06-03 18:13:16.948 Thread 'MainThread': missing ScriptRunContext! This warning can be ignored when running in bare mode.\n",
      "2025-06-03 18:13:16.948 Thread 'MainThread': missing ScriptRunContext! This warning can be ignored when running in bare mode.\n",
      "2025-06-03 18:13:16.948 Thread 'MainThread': missing ScriptRunContext! This warning can be ignored when running in bare mode.\n",
      "2025-06-03 18:13:16.950 Thread 'MainThread': missing ScriptRunContext! This warning can be ignored when running in bare mode.\n",
      "2025-06-03 18:13:16.950 Thread 'MainThread': missing ScriptRunContext! This warning can be ignored when running in bare mode.\n",
      "2025-06-03 18:13:16.950 Thread 'MainThread': missing ScriptRunContext! This warning can be ignored when running in bare mode.\n"
     ]
    }
   ],
   "source": [
    "import streamlit as st\n",
    "\n",
    "# Título\n",
    "st.title(\"Cuestionario de Español: Unidad 6 - Día a Día\")\n",
    "st.write(\"Selecciona la respuesta correcta para cada pregunta.\")\n",
    "\n",
    "# Preguntas (puedes ampliar después)\n",
    "questions = [\n",
    "    {\"q\": \"¿Qué haces por la mañana?\", \"options\": [\"Desayuno\", \"Ceno\", \"Me acuesto\"], \"a\": \"Desayuno\"},\n",
    "    {\"q\": \"¿Con qué frecuencia estudias español?\", \"options\": [\"Siempre\", \"Nunca\", \"A veces\"], \"a\": \"A veces\"},\n",
    "    {\"q\": \"¿Qué día viene después del martes?\", \"options\": [\"Lunes\", \"Miércoles\", \"Viernes\"], \"a\": \"Miércoles\"},\n",
    "    {\"q\": \"¿Qué parte del día es 'la tarde'?\", \"options\": [\"De 1 p.m. a 8 p.m.\", \"De 6 a.m. a 12 p.m.\", \"De 8 p.m. a 12 a.m.\"], \"a\": \"De 1 p.m. a 8 p.m.\"},\n",
    "    {\"q\": \"¿Cuál es la forma correcta del verbo 'ir' en 'yo ___ al trabajo'?\", \"options\": [\"voy\", \"va\", \"vas\"], \"a\": \"voy\"},\n",
    "]\n",
    "\n",
    "# Estado de sesión\n",
    "if \"score\" not in st.session_state:\n",
    "    st.session_state.score = 0\n",
    "    st.session_state.q_index = 0\n",
    "    st.session_state.finished = False\n",
    "\n",
    "# Mostrar pregunta actual\n",
    "if not st.session_state.finished:\n",
    "    q = questions[st.session_state.q_index]\n",
    "    st.subheader(f\"Pregunta {st.session_state.q_index + 1} de {len(questions)}\")\n",
    "    st.write(q[\"q\"])\n",
    "\n",
    "    for opt in q[\"options\"]:\n",
    "        if st.button(opt, key=opt + str(st.session_state.q_index)):\n",
    "            if opt == q[\"a\"]:\n",
    "                st.success(\"¡Correcto!\")\n",
    "                st.session_state.score += 1\n",
    "            else:\n",
    "                st.error(f\"Incorrecto. La respuesta correcta era: {q['a']}\")\n",
    "\n",
    "            if st.session_state.q_index + 1 < len(questions):\n",
    "                st.session_state.q_index += 1\n",
    "            else:\n",
    "                st.session_state.finished = True\n",
    "            st.experimental_rerun()\n",
    "\n",
    "else:\n",
    "    st.success(f\"Juego terminado. Puntaje: {st.session_state.score} de {len(questions)}\")\n",
    "    if st.button(\"Reiniciar juego\"):\n",
    "        st.session_state.score = 0\n",
    "        st.session_state.q_index = 0\n",
    "        st.session_state.finished = False\n",
    "        st.experimental_rerun()\n"
   ]
  }
 ],
 "metadata": {
  "kernelspec": {
   "display_name": "jupyter-games-env",
   "language": "python",
   "name": "jupyter-games-env"
  },
  "language_info": {
   "codemirror_mode": {
    "name": "ipython",
    "version": 3
   },
   "file_extension": ".py",
   "mimetype": "text/x-python",
   "name": "python",
   "nbconvert_exporter": "python",
   "pygments_lexer": "ipython3",
   "version": "3.12.0"
  }
 },
 "nbformat": 4,
 "nbformat_minor": 5
}
